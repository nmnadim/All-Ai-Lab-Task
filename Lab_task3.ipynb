{
  "nbformat": 4,
  "nbformat_minor": 0,
  "metadata": {
    "colab": {
      "name": "Lab task3.ipynb",
      "provenance": [],
      "authorship_tag": "ABX9TyOwLu3XhrCPoMvLHoLOTKGW",
      "include_colab_link": true
    },
    "kernelspec": {
      "name": "python3",
      "display_name": "Python 3"
    },
    "language_info": {
      "name": "python"
    }
  },
  "cells": [
    {
      "cell_type": "markdown",
      "metadata": {
        "id": "view-in-github",
        "colab_type": "text"
      },
      "source": [
        "<a href=\"https://colab.research.google.com/github/nmnadim/All-Ai-Lab-Task/blob/main/Lab_task3.ipynb\" target=\"_parent\"><img src=\"https://colab.research.google.com/assets/colab-badge.svg\" alt=\"Open In Colab\"/></a>"
      ]
    },
    {
      "cell_type": "code",
      "metadata": {
        "colab": {
          "base_uri": "https://localhost:8080/"
        },
        "id": "hlBNzKDdvHYn",
        "outputId": "736e0d77-fb36-4214-db78-d437564eed9b"
      },
      "source": [
        "from google.colab import drive\n",
        "drive.mount('/content/gdrive')"
      ],
      "execution_count": 2,
      "outputs": [
        {
          "output_type": "stream",
          "name": "stdout",
          "text": [
            "Mounted at /content/gdrive\n"
          ]
        }
      ]
    },
    {
      "cell_type": "code",
      "metadata": {
        "colab": {
          "base_uri": "https://localhost:8080/"
        },
        "id": "t4BG_X94yqPy",
        "outputId": "65923a32-67c8-4121-91bf-459c8de8660e"
      },
      "source": [
        "courses = []\n",
        "choice = 'random'\n",
        "def line():\n",
        "    print('---------------------------')\n",
        "\n",
        "def show_menu():\n",
        "    line()\n",
        "    print('MENU')\n",
        "    line()\n",
        "    print('1. Add courses')\n",
        "    print('2. Remove Courses from te list')\n",
        "    print('3. View courses list')\n",
        "    print('4. Exit')\n",
        "    line()\n",
        "    choice = input('Enter your choice: ')\n",
        "    return choice\n",
        "\n",
        "while choice != '4':\n",
        "    choice = show_menu()\n",
        "    if choice == '1':\n",
        "            course = input('Enter the course name: ')\n",
        "            courses.append(course)\n",
        "            print('Courses', course, 'added')\n",
        "    elif choice == '2':\n",
        "        course = input('which courses is done or you want to remove ')\n",
        "        if course in courses:\n",
        "            courses.remove(course)\n",
        "            print('Removed course', course)\n",
        "        else:\n",
        "            print('Could not find course', course)\n",
        "    elif choice == '3':\n",
        "        print('List of your all course:')\n",
        "        for course in courses:\n",
        "            print(course)\n",
        "    elif choice == '4':\n",
        "        print('Goodbye!')\n",
        "    else:\n",
        "        print('Please enter one of 1, 2, 3 ,4 ')\n",
        "\n",
        "\n"
      ],
      "execution_count": 3,
      "outputs": [
        {
          "output_type": "stream",
          "name": "stdout",
          "text": [
            "---------------------------\n",
            "MENU\n",
            "---------------------------\n",
            "1. Add courses\n",
            "2. Remove Courses from te list\n",
            "3. View courses list\n",
            "4. Exit\n",
            "---------------------------\n",
            "Enter your choice: 1\n",
            "Enter the course name: CSE315\n",
            "Courses CSE315 added\n",
            "---------------------------\n",
            "MENU\n",
            "---------------------------\n",
            "1. Add courses\n",
            "2. Remove Courses from te list\n",
            "3. View courses list\n",
            "4. Exit\n",
            "---------------------------\n",
            "Enter your choice: 1\n",
            "Enter the course name: CSE316\n",
            "Courses CSE316 added\n",
            "---------------------------\n",
            "MENU\n",
            "---------------------------\n",
            "1. Add courses\n",
            "2. Remove Courses from te list\n",
            "3. View courses list\n",
            "4. Exit\n",
            "---------------------------\n",
            "Enter your choice: 1\n",
            "Enter the course name: CSE312\n",
            "Courses CSE312 added\n",
            "---------------------------\n",
            "MENU\n",
            "---------------------------\n",
            "1. Add courses\n",
            "2. Remove Courses from te list\n",
            "3. View courses list\n",
            "4. Exit\n",
            "---------------------------\n",
            "Enter your choice: 3\n",
            "List of your all course:\n",
            "CSE315\n",
            "CSE316\n",
            "CSE312\n",
            "---------------------------\n",
            "MENU\n",
            "---------------------------\n",
            "1. Add courses\n",
            "2. Remove Courses from te list\n",
            "3. View courses list\n",
            "4. Exit\n",
            "---------------------------\n",
            "Enter your choice: 2\n",
            "which courses is done or you want to remove CSE312\n",
            "Removed course CSE312\n",
            "---------------------------\n",
            "MENU\n",
            "---------------------------\n",
            "1. Add courses\n",
            "2. Remove Courses from te list\n",
            "3. View courses list\n",
            "4. Exit\n",
            "---------------------------\n",
            "Enter your choice: 3\n",
            "List of your all course:\n",
            "CSE315\n",
            "CSE316\n",
            "---------------------------\n",
            "MENU\n",
            "---------------------------\n",
            "1. Add courses\n",
            "2. Remove Courses from te list\n",
            "3. View courses list\n",
            "4. Exit\n",
            "---------------------------\n",
            "Enter your choice: 4\n",
            "Goodbye!\n"
          ]
        }
      ]
    }
  ]
}